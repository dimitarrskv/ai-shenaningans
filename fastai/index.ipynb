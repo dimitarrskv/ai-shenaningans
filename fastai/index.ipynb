{
 "cells": [
  {
   "cell_type": "code",
   "execution_count": 1,
   "metadata": {},
   "outputs": [
    {
     "name": "stderr",
     "output_type": "stream",
     "text": [
      "/Users/dimitarruskov/miniconda3/lib/python3.11/site-packages/torchvision/io/image.py:13: UserWarning: Failed to load image Python extension: 'dlopen(/Users/dimitarruskov/miniconda3/lib/python3.11/site-packages/torchvision/image.so, 0x0006): Symbol not found: __ZN3c106detail19maybe_wrap_dim_slowIxEET_S2_S2_b\n",
      "  Referenced from: <CFED5F8E-EC3F-36FD-AAA3-2C6C7F8D3DD9> /Users/dimitarruskov/miniconda3/lib/python3.11/site-packages/torchvision/image.so\n",
      "  Expected in:     <DB251723-D0A7-3D18-91AD-79131BDBDDBC> /Users/dimitarruskov/miniconda3/lib/python3.11/site-packages/torch/lib/libc10.dylib'If you don't plan on using image functionality from `torchvision.io`, you can ignore this warning. Otherwise, there might be something wrong with your environment. Did you have `libjpeg` or `libpng` installed before building `torchvision` from source?\n",
      "  warn(\n"
     ]
    }
   ],
   "source": [
    "from torch import nn\n",
    "import torch.nn.functional as F\n",
    "from utils import inplace, MetricsCB, DeviceCB, ProgressCB, set_seed, append_stats, conv\n",
    "from datasets import load_dataset\n",
    "import torchvision.transforms.functional as TF\n",
    "from torcheval.metrics import MulticlassAccuracy\n",
    "from dataloaders import DataLoaders\n",
    "from learners import TrainLearner\n",
    "from hooks import ActivationStats\n",
    "import fastcore.all as fc\n",
    "\n",
    "set_seed(1)"
   ]
  },
  {
   "cell_type": "code",
   "execution_count": null,
   "metadata": {},
   "outputs": [],
   "source": [
    "@inplace\n",
    "def transformi(b):\n",
    "    b[x] = [TF.to_tensor(o) for o in b[x]]\n",
    "\n",
    "x,y = 'image','label'\n",
    "name = \"fashion_mnist\"\n",
    "dsd = load_dataset(name)\n",
    "bs = 1024\n",
    "def_device='cpu'\n",
    "\n",
    "tds = dsd.with_transform(transformi)\n",
    "dls = DataLoaders.from_dd(tds, bs, num_workers=4)\n",
    "\n",
    "def get_model(act=nn.ReLU, nfs=None, nout=10):\n",
    "    if nfs is None: nfs = [1, 8, 16, 32, 64]\n",
    "\n",
    "    layers = [conv(nfs[i], nfs[i+1], act=act) for i in range(len(nfs)-1)]\n",
    "    layers.append(conv(nfs[-1], nout, act=None))\n",
    "    layers.append(nn.Flatten())\n",
    "\n",
    "    return nn.Sequential(*layers).to(def_device)\n",
    "\n",
    "def fit(model, epochs=1, xtra_cbs=[]):\n",
    "    cbs = [DeviceCB(), MetricsCB(accuracy=MulticlassAccuracy()), ProgressCB(plot=True)]\n",
    "    learn = TrainLearner(model, dls, loss_func=F.cross_entropy, lr=0.2, cbs=cbs+list(xtra_cbs))\n",
    "    learn.fit(epochs)\n",
    "\n",
    "astats = ActivationStats(append_stats, mod_filter=fc.risinstance(nn.Conv2d))\n",
    "\n",
    "fit(get_model(), xtra_cbs=[astats], epochs=5)\n",
    "\n",
    "astats.color_dim()\n",
    "astats.dead_chart()\n",
    "astats.plot_stats()"
   ]
  },
  {
   "cell_type": "code",
   "execution_count": null,
   "metadata": {},
   "outputs": [],
   "source": []
  }
 ],
 "metadata": {
  "kernelspec": {
   "display_name": "base",
   "language": "python",
   "name": "python3"
  },
  "language_info": {
   "codemirror_mode": {
    "name": "ipython",
    "version": 3
   },
   "file_extension": ".py",
   "mimetype": "text/x-python",
   "name": "python",
   "nbconvert_exporter": "python",
   "pygments_lexer": "ipython3",
   "version": "3.11.7"
  }
 },
 "nbformat": 4,
 "nbformat_minor": 2
}
